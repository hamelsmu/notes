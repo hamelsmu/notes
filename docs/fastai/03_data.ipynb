{
 "cells": [
  {
   "cell_type": "raw",
   "id": "d6e004b5-8ce7-4936-b59c-6e0f98eb42b8",
   "metadata": {},
   "source": [
    "---\n",
    "title: Data in fastai\n",
    "---"
   ]
  },
  {
   "cell_type": "code",
   "execution_count": 1,
   "id": "3f24b061-bb85-47b2-a94d-6f7314e137c3",
   "metadata": {
    "execution": {
     "iopub.execute_input": "2022-03-24T18:39:15.350226Z",
     "iopub.status.busy": "2022-03-24T18:39:15.349233Z",
     "iopub.status.idle": "2022-03-24T18:39:18.120461Z",
     "shell.execute_reply": "2022-03-24T18:39:18.121069Z"
    }
   },
   "outputs": [],
   "source": [
    "from fastbook import *"
   ]
  },
  {
   "cell_type": "markdown",
   "id": "24ae2ce6-a4a0-4ce1-b2c7-1a94fcc5d90f",
   "metadata": {},
   "source": [
    "# Data In fastai"
   ]
  },
  {
   "cell_type": "markdown",
   "id": "c2a349ff-7649-4768-93c2-a5ef20c235d9",
   "metadata": {},
   "source": [
    "One of the most important things in fastai to understand is how you prepare your data for a model.  The main workhorse for accomplishing this in fastai is the `DataBlock` api.  Here is a hello world example of how this works:"
   ]
  },
  {
   "cell_type": "markdown",
   "id": "f09e1153-8bfa-47eb-b1b1-802143689418",
   "metadata": {},
   "source": [
    "## Hello World DataBlock"
   ]
  },
  {
   "cell_type": "markdown",
   "id": "b19e0e78-f9b3-4519-a625-69cd1d76411d",
   "metadata": {},
   "source": [
    "The argument `get_x` and `get_y` operate on an iterable.  Let's define an interable as our data:"
   ]
  },
  {
   "cell_type": "code",
   "execution_count": 2,
   "id": "ed61fec3-eade-4474-84c7-9fe078776a9f",
   "metadata": {
    "execution": {
     "iopub.execute_input": "2022-03-24T18:39:18.127794Z",
     "iopub.status.busy": "2022-03-24T18:39:18.126571Z",
     "iopub.status.idle": "2022-03-24T18:39:18.129028Z",
     "shell.execute_reply": "2022-03-24T18:39:18.129890Z"
    }
   },
   "outputs": [],
   "source": [
    "data = list(range(100))"
   ]
  },
  {
   "cell_type": "code",
   "execution_count": 3,
   "id": "e5951f69-1d2e-494c-be50-8f9a5b2ac88f",
   "metadata": {
    "execution": {
     "iopub.execute_input": "2022-03-24T18:39:18.138724Z",
     "iopub.status.busy": "2022-03-24T18:39:18.136372Z",
     "iopub.status.idle": "2022-03-24T18:39:18.140846Z",
     "shell.execute_reply": "2022-03-24T18:39:18.141453Z"
    }
   },
   "outputs": [],
   "source": [
    "def get_x(r): return r\n",
    "def get_y(r): return r + 10\n",
    "dblock = DataBlock(get_x=get_x, get_y = get_y)\n",
    "dsets = dblock.datasets(data)"
   ]
  },
  {
   "cell_type": "markdown",
   "id": "21dcc1e4-a77a-438c-a2ea-478910db7045",
   "metadata": {},
   "source": [
    "You can see a dataset like so:"
   ]
  },
  {
   "cell_type": "code",
   "execution_count": 4,
   "id": "416b86e7-f6fd-4ae0-b7cf-fd2d75800c02",
   "metadata": {
    "execution": {
     "iopub.execute_input": "2022-03-24T18:39:18.148978Z",
     "iopub.status.busy": "2022-03-24T18:39:18.147518Z",
     "iopub.status.idle": "2022-03-24T18:39:18.152187Z",
     "shell.execute_reply": "2022-03-24T18:39:18.152847Z"
    }
   },
   "outputs": [
    {
     "data": {
      "text/plain": [
       "(89, 99)"
      ]
     },
     "execution_count": 4,
     "metadata": {},
     "output_type": "execute_result"
    }
   ],
   "source": [
    "dsets.train[0]"
   ]
  },
  {
   "cell_type": "markdown",
   "id": "06ba68cd-c216-4652-a170-7fc3edacf94f",
   "metadata": {},
   "source": [
    "You can also see a DataLoader like so:"
   ]
  },
  {
   "cell_type": "code",
   "execution_count": 5,
   "id": "c13aab9b-8b83-44d3-86e8-dfb1e79e473a",
   "metadata": {
    "execution": {
     "iopub.execute_input": "2022-03-24T18:39:18.164864Z",
     "iopub.status.busy": "2022-03-24T18:39:18.161217Z",
     "iopub.status.idle": "2022-03-24T18:39:18.165898Z",
     "shell.execute_reply": "2022-03-24T18:39:18.166487Z"
    }
   },
   "outputs": [],
   "source": [
    "dls = dblock.dataloaders(data, bs=5)"
   ]
  },
  {
   "cell_type": "code",
   "execution_count": 6,
   "id": "fee6e216-afd0-4de2-a050-e84d8ebb4457",
   "metadata": {
    "execution": {
     "iopub.execute_input": "2022-03-24T18:39:18.172271Z",
     "iopub.status.busy": "2022-03-24T18:39:18.170127Z",
     "iopub.status.idle": "2022-03-24T18:39:18.673492Z",
     "shell.execute_reply": "2022-03-24T18:39:18.674104Z"
    }
   },
   "outputs": [
    {
     "data": {
      "text/plain": [
       "(tensor([57, 66, 73, 30, 14]), tensor([67, 76, 83, 40, 24]))"
      ]
     },
     "execution_count": 6,
     "metadata": {},
     "output_type": "execute_result"
    }
   ],
   "source": [
    "next(iter(dls.train))"
   ]
  },
  {
   "cell_type": "markdown",
   "id": "0cbc9f5e-1757-4615-a2fb-66a36cfb6ffa",
   "metadata": {},
   "source": [
    "### With A DataFrame"
   ]
  },
  {
   "cell_type": "markdown",
   "id": "b64053dc-3901-4e3f-b675-1062433880fe",
   "metadata": {},
   "source": [
    "Similarly, you can operate on one row at a time:"
   ]
  },
  {
   "cell_type": "code",
   "execution_count": 7,
   "id": "503fdb7a-df67-495b-9948-5bd31be19158",
   "metadata": {
    "execution": {
     "iopub.execute_input": "2022-03-24T18:39:18.683639Z",
     "iopub.status.busy": "2022-03-24T18:39:18.681873Z",
     "iopub.status.idle": "2022-03-24T18:39:18.688199Z",
     "shell.execute_reply": "2022-03-24T18:39:18.689042Z"
    }
   },
   "outputs": [
    {
     "data": {
      "text/html": [
       "<div>\n",
       "<style scoped>\n",
       "    .dataframe tbody tr th:only-of-type {\n",
       "        vertical-align: middle;\n",
       "    }\n",
       "\n",
       "    .dataframe tbody tr th {\n",
       "        vertical-align: top;\n",
       "    }\n",
       "\n",
       "    .dataframe thead th {\n",
       "        text-align: right;\n",
       "    }\n",
       "</style>\n",
       "<table border=\"1\" class=\"dataframe\">\n",
       "  <thead>\n",
       "    <tr style=\"text-align: right;\">\n",
       "      <th></th>\n",
       "      <th>x</th>\n",
       "      <th>y</th>\n",
       "    </tr>\n",
       "  </thead>\n",
       "  <tbody>\n",
       "    <tr>\n",
       "      <th>0</th>\n",
       "      <td>0</td>\n",
       "      <td>0</td>\n",
       "    </tr>\n",
       "    <tr>\n",
       "      <th>1</th>\n",
       "      <td>1</td>\n",
       "      <td>1</td>\n",
       "    </tr>\n",
       "    <tr>\n",
       "      <th>2</th>\n",
       "      <td>2</td>\n",
       "      <td>2</td>\n",
       "    </tr>\n",
       "    <tr>\n",
       "      <th>3</th>\n",
       "      <td>3</td>\n",
       "      <td>3</td>\n",
       "    </tr>\n",
       "    <tr>\n",
       "      <th>4</th>\n",
       "      <td>4</td>\n",
       "      <td>4</td>\n",
       "    </tr>\n",
       "  </tbody>\n",
       "</table>\n",
       "</div>"
      ],
      "text/plain": [
       "   x  y\n",
       "0  0  0\n",
       "1  1  1\n",
       "2  2  2\n",
       "3  3  3\n",
       "4  4  4"
      ]
     },
     "execution_count": 7,
     "metadata": {},
     "output_type": "execute_result"
    }
   ],
   "source": [
    "import pandas as pd\n",
    "df = pd.DataFrame({'x': range(100), 'y': range(100) })\n",
    "df.head()"
   ]
  },
  {
   "cell_type": "code",
   "execution_count": 8,
   "id": "0ead1eb7-44ca-4a05-93b0-1a83edc945b7",
   "metadata": {
    "execution": {
     "iopub.execute_input": "2022-03-24T18:39:18.699057Z",
     "iopub.status.busy": "2022-03-24T18:39:18.698092Z",
     "iopub.status.idle": "2022-03-24T18:39:18.699964Z",
     "shell.execute_reply": "2022-03-24T18:39:18.700592Z"
    }
   },
   "outputs": [],
   "source": [
    "def get_x(r): return r.x\n",
    "def get_y(r): return r.y + 10\n",
    "dblock = DataBlock(get_x=get_x, get_y=get_y)\n",
    "dsets = dblock.datasets(df)"
   ]
  },
  {
   "cell_type": "code",
   "execution_count": 9,
   "id": "28144d1d-1b39-40d9-9931-9b800f54b96e",
   "metadata": {
    "execution": {
     "iopub.execute_input": "2022-03-24T18:39:18.706468Z",
     "iopub.status.busy": "2022-03-24T18:39:18.705659Z",
     "iopub.status.idle": "2022-03-24T18:39:18.708138Z",
     "shell.execute_reply": "2022-03-24T18:39:18.708709Z"
    }
   },
   "outputs": [
    {
     "data": {
      "text/plain": [
       "(78, 88)"
      ]
     },
     "execution_count": 9,
     "metadata": {},
     "output_type": "execute_result"
    }
   ],
   "source": [
    "dsets.train[0]"
   ]
  },
  {
   "cell_type": "code",
   "execution_count": 10,
   "id": "2105913d-a0f1-4d11-8858-a528ff3b7a2b",
   "metadata": {
    "execution": {
     "iopub.execute_input": "2022-03-24T18:39:18.715943Z",
     "iopub.status.busy": "2022-03-24T18:39:18.714244Z",
     "iopub.status.idle": "2022-03-24T18:39:18.839955Z",
     "shell.execute_reply": "2022-03-24T18:39:18.840537Z"
    }
   },
   "outputs": [
    {
     "data": {
      "text/plain": [
       "(tensor([90, 55, 11]), tensor([100,  65,  21]))"
      ]
     },
     "execution_count": 10,
     "metadata": {},
     "output_type": "execute_result"
    }
   ],
   "source": [
    "dls = dblock.dataloaders(df, bs=3)\n",
    "next(iter(dls.train))"
   ]
  },
  {
   "cell_type": "code",
   "execution_count": null,
   "id": "a46816b2-32a0-4652-8273-5bf43e656cd3",
   "metadata": {},
   "outputs": [],
   "source": []
  },
  {
   "cell_type": "code",
   "execution_count": null,
   "id": "6d7c41a1-f225-46ae-8392-3b48a9b9db10",
   "metadata": {},
   "outputs": [],
   "source": []
  },
  {
   "cell_type": "code",
   "execution_count": null,
   "id": "a2ed7f24-0fd1-4c86-a048-15ea60906ecf",
   "metadata": {},
   "outputs": [],
   "source": []
  },
  {
   "cell_type": "code",
   "execution_count": null,
   "id": "dbba0827-c59c-4ccf-ba64-d90888842773",
   "metadata": {},
   "outputs": [],
   "source": []
  },
  {
   "cell_type": "code",
   "execution_count": 11,
   "id": "2ccc2c2f-1985-4720-81d9-b98d0bfce2d9",
   "metadata": {
    "execution": {
     "iopub.execute_input": "2022-03-24T18:39:18.846499Z",
     "iopub.status.busy": "2022-03-24T18:39:18.845372Z",
     "iopub.status.idle": "2022-03-24T18:39:18.847299Z",
     "shell.execute_reply": "2022-03-24T18:39:18.847857Z"
    }
   },
   "outputs": [],
   "source": [
    "def tracer(nm):\n",
    "    def f(x, nm):\n",
    "        # print(f'{nm}:')\n",
    "        # print(f'\\tinput: {x}')\n",
    "        # import ipdb; ipdb.set_trace()\n",
    "        return str(x)\n",
    "    return partial(f, nm=nm)"
   ]
  },
  {
   "cell_type": "code",
   "execution_count": 12,
   "id": "bcc4888c-f0b6-48ef-8e1f-995263c48565",
   "metadata": {
    "execution": {
     "iopub.execute_input": "2022-03-24T18:39:18.853816Z",
     "iopub.status.busy": "2022-03-24T18:39:18.852652Z",
     "iopub.status.idle": "2022-03-24T18:39:18.854661Z",
     "shell.execute_reply": "2022-03-24T18:39:18.855224Z"
    }
   },
   "outputs": [],
   "source": [
    "def mult_0(x): return x * 0\n",
    "def add_1(x): return x +1 \n",
    "tb = TransformBlock(item_tfms=[tracer('item_tfms')])\n",
    "# def get_y(l): return sum(l)\n",
    "db = DataBlock(blocks=(TransformBlock, TransformBlock),\n",
    "               get_x=mult_0,\n",
    "               get_y=add_1,\n",
    "               item_tfms=lambda x: str(x))"
   ]
  },
  {
   "cell_type": "code",
   "execution_count": 13,
   "id": "1204a3e7-5cf3-4d79-8929-8ec363293448",
   "metadata": {
    "execution": {
     "iopub.execute_input": "2022-03-24T18:39:18.860969Z",
     "iopub.status.busy": "2022-03-24T18:39:18.859430Z",
     "iopub.status.idle": "2022-03-24T18:39:18.862057Z",
     "shell.execute_reply": "2022-03-24T18:39:18.862673Z"
    }
   },
   "outputs": [],
   "source": [
    "data = L(range(10))\n",
    "result = db.datasets(data)"
   ]
  },
  {
   "cell_type": "code",
   "execution_count": 14,
   "id": "29091b42-69a5-4af5-8a61-9a9d9949d2ac",
   "metadata": {
    "execution": {
     "iopub.execute_input": "2022-03-24T18:39:18.872094Z",
     "iopub.status.busy": "2022-03-24T18:39:18.868450Z",
     "iopub.status.idle": "2022-03-24T18:39:18.873910Z",
     "shell.execute_reply": "2022-03-24T18:39:18.874519Z"
    }
   },
   "outputs": [
    {
     "name": "stdout",
     "output_type": "stream",
     "text": [
      "Setting-up type transforms pipelines\n",
      "Collecting items from [0, 1, 2, 3, 4, 5, 6, 7, 8, 9]\n",
      "Found 10 items\n",
      "2 datasets of sizes 8,2\n",
      "Setting up Pipeline: mult_0\n",
      "Setting up Pipeline: add_1\n",
      "\n",
      "Building one sample\n",
      "  Pipeline: mult_0\n",
      "    starting from\n",
      "      1\n",
      "    applying mult_0 gives\n",
      "      0\n",
      "  Pipeline: add_1\n",
      "    starting from\n",
      "      1\n",
      "    applying add_1 gives\n",
      "      2\n",
      "\n",
      "Final sample: (0, 2)\n",
      "\n",
      "\n",
      "Collecting items from [0, 1, 2, 3, 4, 5, 6, 7, 8, 9]\n",
      "Found 10 items\n",
      "2 datasets of sizes 8,2\n",
      "Setting up Pipeline: mult_0\n",
      "Setting up Pipeline: add_1\n",
      "Setting up after_item: Pipeline: <lambda> -> ToTensor\n",
      "Setting up before_batch: Pipeline: \n",
      "Setting up after_batch: Pipeline: \n",
      "\n",
      "Building one batch\n",
      "Applying item_tfms to the first sample:\n",
      "  Pipeline: <lambda> -> ToTensor\n",
      "    starting from\n",
      "      (0, 2)\n",
      "    applying <lambda> gives\n",
      "      (0, 2)\n",
      "    applying ToTensor gives\n",
      "      (0, 2)\n",
      "\n",
      "Adding the next 3 samples\n",
      "\n",
      "No before_batch transform to apply\n",
      "\n",
      "Collating items in a batch\n",
      "\n",
      "No batch_tfms to apply\n"
     ]
    }
   ],
   "source": [
    "db.summary(data)"
   ]
  },
  {
   "cell_type": "code",
   "execution_count": 15,
   "id": "5bcbf589-a8b2-4cec-aee7-413dc49701a1",
   "metadata": {
    "execution": {
     "iopub.execute_input": "2022-03-24T18:39:18.878739Z",
     "iopub.status.busy": "2022-03-24T18:39:18.876660Z",
     "iopub.status.idle": "2022-03-24T18:39:18.881278Z",
     "shell.execute_reply": "2022-03-24T18:39:18.882107Z"
    }
   },
   "outputs": [
    {
     "data": {
      "text/plain": [
       "(0, 5)"
      ]
     },
     "execution_count": 15,
     "metadata": {},
     "output_type": "execute_result"
    }
   ],
   "source": [
    "result.train[0]"
   ]
  },
  {
   "cell_type": "code",
   "execution_count": 16,
   "id": "9ed0ea46-8382-4402-9e1f-9932b5597305",
   "metadata": {
    "execution": {
     "iopub.execute_input": "2022-03-24T18:39:18.888800Z",
     "iopub.status.busy": "2022-03-24T18:39:18.887790Z",
     "iopub.status.idle": "2022-03-24T18:39:18.889637Z",
     "shell.execute_reply": "2022-03-24T18:39:18.890175Z"
    }
   },
   "outputs": [],
   "source": [
    "result = db.dataloaders(data, bs=3)"
   ]
  },
  {
   "cell_type": "code",
   "execution_count": 17,
   "id": "f1581ac2-6ed4-4487-9dcb-7178155c170f",
   "metadata": {
    "execution": {
     "iopub.execute_input": "2022-03-24T18:39:18.894175Z",
     "iopub.status.busy": "2022-03-24T18:39:18.893033Z",
     "iopub.status.idle": "2022-03-24T18:39:18.895347Z",
     "shell.execute_reply": "2022-03-24T18:39:18.895925Z"
    }
   },
   "outputs": [],
   "source": [
    "thing = iter(result.train)"
   ]
  },
  {
   "cell_type": "code",
   "execution_count": 18,
   "id": "13a4f191-0e8e-4fda-ae3c-41ee32deed65",
   "metadata": {
    "execution": {
     "iopub.execute_input": "2022-03-24T18:39:18.899472Z",
     "iopub.status.busy": "2022-03-24T18:39:18.898737Z",
     "iopub.status.idle": "2022-03-24T18:39:19.008498Z",
     "shell.execute_reply": "2022-03-24T18:39:19.009305Z"
    }
   },
   "outputs": [
    {
     "data": {
      "text/plain": [
       "(('0', '0', '0'), ('6', '7', '4'))"
      ]
     },
     "execution_count": 18,
     "metadata": {},
     "output_type": "execute_result"
    }
   ],
   "source": [
    "next(thing)"
   ]
  },
  {
   "cell_type": "code",
   "execution_count": 19,
   "id": "944e6941-1d5d-401c-a5f3-f327f7b74ccb",
   "metadata": {
    "execution": {
     "iopub.execute_input": "2022-03-24T18:39:19.016242Z",
     "iopub.status.busy": "2022-03-24T18:39:19.015211Z",
     "iopub.status.idle": "2022-03-24T18:39:19.018263Z",
     "shell.execute_reply": "2022-03-24T18:39:19.018911Z"
    }
   },
   "outputs": [
    {
     "data": {
      "text/plain": [
       "(('0', '0', '0'), ('9', '5', '3'))"
      ]
     },
     "execution_count": 19,
     "metadata": {},
     "output_type": "execute_result"
    }
   ],
   "source": [
    "next(thing)"
   ]
  },
  {
   "cell_type": "code",
   "execution_count": 20,
   "id": "1ea8bed2-b903-48b0-955f-6218a792bb32",
   "metadata": {
    "execution": {
     "iopub.execute_input": "2022-03-24T18:39:19.024520Z",
     "iopub.status.busy": "2022-03-24T18:39:19.023794Z",
     "iopub.status.idle": "2022-03-24T18:39:19.066518Z",
     "shell.execute_reply": "2022-03-24T18:39:19.067218Z"
    }
   },
   "outputs": [],
   "source": [
    "??TransformBlock"
   ]
  },
  {
   "cell_type": "code",
   "execution_count": 21,
   "id": "2504b50f-f816-4b05-8530-2163b05fe205",
   "metadata": {
    "execution": {
     "iopub.execute_input": "2022-03-24T18:39:19.072793Z",
     "iopub.status.busy": "2022-03-24T18:39:19.071904Z",
     "iopub.status.idle": "2022-03-24T18:39:19.073657Z",
     "shell.execute_reply": "2022-03-24T18:39:19.074253Z"
    }
   },
   "outputs": [],
   "source": [
    "db = DataBlock(blocks=(TransformBlock, tb),\n",
    "              get_y=lambda x: str(x),\n",
    "              batch_tfms=tracer('batch_tfms'))"
   ]
  },
  {
   "cell_type": "code",
   "execution_count": 22,
   "id": "afba1743-798f-4f3b-9610-157ae5f5d4b6",
   "metadata": {
    "execution": {
     "iopub.execute_input": "2022-03-24T18:39:19.080837Z",
     "iopub.status.busy": "2022-03-24T18:39:19.078146Z",
     "iopub.status.idle": "2022-03-24T18:39:19.082369Z",
     "shell.execute_reply": "2022-03-24T18:39:19.083079Z"
    }
   },
   "outputs": [],
   "source": [
    "result = db.datasets(data)\n",
    "result = db.dataloaders(data, bs=3)"
   ]
  },
  {
   "cell_type": "code",
   "execution_count": 23,
   "id": "2cacc94d-e7af-4cdd-a8c0-5873db8a5e00",
   "metadata": {
    "execution": {
     "iopub.execute_input": "2022-03-24T18:39:19.086991Z",
     "iopub.status.busy": "2022-03-24T18:39:19.086275Z",
     "iopub.status.idle": "2022-03-24T18:39:19.088968Z",
     "shell.execute_reply": "2022-03-24T18:39:19.089542Z"
    }
   },
   "outputs": [
    {
     "data": {
      "text/plain": [
       "<fastai.data.core.DataLoaders at 0x7f9e08ff0160>"
      ]
     },
     "execution_count": 23,
     "metadata": {},
     "output_type": "execute_result"
    }
   ],
   "source": [
    "result"
   ]
  },
  {
   "cell_type": "code",
   "execution_count": 24,
   "id": "56cadb73-c606-4406-80d1-a8f1a0cc26f6",
   "metadata": {
    "execution": {
     "iopub.execute_input": "2022-03-24T18:39:19.094171Z",
     "iopub.status.busy": "2022-03-24T18:39:19.092918Z",
     "iopub.status.idle": "2022-03-24T18:39:19.101495Z",
     "shell.execute_reply": "2022-03-24T18:39:19.102056Z"
    }
   },
   "outputs": [],
   "source": [
    "thing = iter(result.train)"
   ]
  },
  {
   "cell_type": "code",
   "execution_count": 25,
   "id": "cfe527d0-7461-4ce4-a151-27dfafe89886",
   "metadata": {
    "execution": {
     "iopub.execute_input": "2022-03-24T18:39:19.107156Z",
     "iopub.status.busy": "2022-03-24T18:39:19.106432Z",
     "iopub.status.idle": "2022-03-24T18:39:19.208355Z",
     "shell.execute_reply": "2022-03-24T18:39:19.209095Z"
    }
   },
   "outputs": [
    {
     "data": {
      "text/plain": [
       "(('1', '5', '6'), ('1', '5', '6'))"
      ]
     },
     "execution_count": 25,
     "metadata": {},
     "output_type": "execute_result"
    }
   ],
   "source": [
    "next(thing)"
   ]
  },
  {
   "cell_type": "code",
   "execution_count": 26,
   "id": "f3835a10-72a0-4a64-8a61-ceefb620edfd",
   "metadata": {
    "execution": {
     "iopub.execute_input": "2022-03-24T18:39:19.217830Z",
     "iopub.status.busy": "2022-03-24T18:39:19.216930Z",
     "iopub.status.idle": "2022-03-24T18:39:19.218622Z",
     "shell.execute_reply": "2022-03-24T18:39:19.219269Z"
    }
   },
   "outputs": [],
   "source": [
    "f = aug_transforms()[0]"
   ]
  },
  {
   "cell_type": "code",
   "execution_count": 27,
   "id": "cf98e870-c5da-4da7-a917-62cf381fe376",
   "metadata": {
    "execution": {
     "iopub.execute_input": "2022-03-24T18:39:19.224127Z",
     "iopub.status.busy": "2022-03-24T18:39:19.223128Z",
     "iopub.status.idle": "2022-03-24T18:39:19.225858Z",
     "shell.execute_reply": "2022-03-24T18:39:19.226524Z"
    }
   },
   "outputs": [
    {
     "data": {
      "text/plain": [
       "Flip -- {'size': None, 'mode': 'bilinear', 'pad_mode': 'reflection', 'mode_mask': 'nearest', 'align_corners': True, 'p': 0.5}:\n",
       "encodes: (TensorImage,object) -> encodes\n",
       "(TensorMask,object) -> encodes\n",
       "(TensorBBox,object) -> encodes\n",
       "(TensorPoint,object) -> encodes\n",
       "decodes: "
      ]
     },
     "execution_count": 27,
     "metadata": {},
     "output_type": "execute_result"
    }
   ],
   "source": [
    "f"
   ]
  },
  {
   "cell_type": "code",
   "execution_count": null,
   "id": "2c7711f5-8460-4a84-892e-c8afc449a475",
   "metadata": {},
   "outputs": [],
   "source": []
  }
 ],
 "metadata": {
  "kernelspec": {
   "display_name": "Python 3.9.7 ('base')",
   "language": "python",
   "name": "python397jvsc74a57bd042fd40e048e0585f88ec242f050f7ef0895cf845a8dd1159352394e5826cd102"
  },
  "language_info": {
   "codemirror_mode": {
    "name": "ipython",
    "version": 3
   },
   "file_extension": ".py",
   "mimetype": "text/x-python",
   "name": "python",
   "nbconvert_exporter": "python",
   "pygments_lexer": "ipython3",
   "version": "3.9.7"
  }
 },
 "nbformat": 4,
 "nbformat_minor": 5
}
